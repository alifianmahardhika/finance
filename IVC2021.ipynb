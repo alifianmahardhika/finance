{
  "nbformat": 4,
  "nbformat_minor": 0,
  "metadata": {
    "colab": {
      "name": "IVC2021.ipynb",
      "provenance": [],
      "collapsed_sections": [],
      "authorship_tag": "ABX9TyNi4rzOmquAqO1TDFIwqQ7y",
      "include_colab_link": true
    },
    "kernelspec": {
      "name": "python3",
      "display_name": "Python 3"
    },
    "language_info": {
      "name": "python"
    }
  },
  "cells": [
    {
      "cell_type": "markdown",
      "metadata": {
        "id": "view-in-github",
        "colab_type": "text"
      },
      "source": [
        "<a href=\"https://colab.research.google.com/github/alifianmahardhika/finance/blob/main/IVC2021.ipynb\" target=\"_parent\"><img src=\"https://colab.research.google.com/assets/colab-badge.svg\" alt=\"Open In Colab\"/></a>"
      ]
    },
    {
      "cell_type": "code",
      "metadata": {
        "colab": {
          "base_uri": "https://localhost:8080/"
        },
        "id": "7Khfu-A58MRx",
        "outputId": "da808e15-bc1e-4765-b328-c6093f6a3d4e"
      },
      "source": [
        "%pip install yfinance"
      ],
      "execution_count": 1,
      "outputs": [
        {
          "output_type": "stream",
          "text": [
            "Requirement already satisfied: yfinance in /usr/local/lib/python3.7/dist-packages (0.1.63)\n",
            "Requirement already satisfied: lxml>=4.5.1 in /usr/local/lib/python3.7/dist-packages (from yfinance) (4.6.3)\n",
            "Requirement already satisfied: requests>=2.20 in /usr/local/lib/python3.7/dist-packages (from yfinance) (2.23.0)\n",
            "Requirement already satisfied: pandas>=0.24 in /usr/local/lib/python3.7/dist-packages (from yfinance) (1.1.5)\n",
            "Requirement already satisfied: multitasking>=0.0.7 in /usr/local/lib/python3.7/dist-packages (from yfinance) (0.0.9)\n",
            "Requirement already satisfied: numpy>=1.15 in /usr/local/lib/python3.7/dist-packages (from yfinance) (1.19.5)\n",
            "Requirement already satisfied: pytz>=2017.2 in /usr/local/lib/python3.7/dist-packages (from pandas>=0.24->yfinance) (2018.9)\n",
            "Requirement already satisfied: python-dateutil>=2.7.3 in /usr/local/lib/python3.7/dist-packages (from pandas>=0.24->yfinance) (2.8.2)\n",
            "Requirement already satisfied: six>=1.5 in /usr/local/lib/python3.7/dist-packages (from python-dateutil>=2.7.3->pandas>=0.24->yfinance) (1.15.0)\n",
            "Requirement already satisfied: chardet<4,>=3.0.2 in /usr/local/lib/python3.7/dist-packages (from requests>=2.20->yfinance) (3.0.4)\n",
            "Requirement already satisfied: certifi>=2017.4.17 in /usr/local/lib/python3.7/dist-packages (from requests>=2.20->yfinance) (2021.5.30)\n",
            "Requirement already satisfied: urllib3!=1.25.0,!=1.25.1,<1.26,>=1.21.1 in /usr/local/lib/python3.7/dist-packages (from requests>=2.20->yfinance) (1.24.3)\n",
            "Requirement already satisfied: idna<3,>=2.5 in /usr/local/lib/python3.7/dist-packages (from requests>=2.20->yfinance) (2.10)\n"
          ],
          "name": "stdout"
        }
      ]
    },
    {
      "cell_type": "code",
      "metadata": {
        "id": "J4TwaOs_DVja"
      },
      "source": [
        "import yfinance as yf\n",
        "import pandas as pd\n",
        "import seaborn as sn\n",
        "import numpy as np\n",
        "import matplotlib.pyplot as plt"
      ],
      "execution_count": 2,
      "outputs": []
    },
    {
      "cell_type": "code",
      "metadata": {
        "colab": {
          "base_uri": "https://localhost:8080/"
        },
        "id": "thdSgZakDo0X",
        "outputId": "cfcea094-9da5-493f-96e7-935e982df5a5"
      },
      "source": [
        "list_tickers = ['GOOGL', 'AAPL', 'MSFT', 'AMZN', 'FB']\n",
        "data = yf.download(\n",
        "    tickers= list_tickers,\n",
        "    period='ytd'\n",
        ")"
      ],
      "execution_count": 3,
      "outputs": [
        {
          "output_type": "stream",
          "text": [
            "[*********************100%***********************]  5 of 5 completed\n"
          ],
          "name": "stdout"
        }
      ]
    },
    {
      "cell_type": "code",
      "metadata": {
        "colab": {
          "base_uri": "https://localhost:8080/",
          "height": 671
        },
        "id": "n5OusfQ8Z4zJ",
        "outputId": "e2209aab-47e0-4408-853e-b8d0512ed9b0"
      },
      "source": [
        "data"
      ],
      "execution_count": 4,
      "outputs": [
        {
          "output_type": "execute_result",
          "data": {
            "text/html": [
              "<div>\n",
              "<style scoped>\n",
              "    .dataframe tbody tr th:only-of-type {\n",
              "        vertical-align: middle;\n",
              "    }\n",
              "\n",
              "    .dataframe tbody tr th {\n",
              "        vertical-align: top;\n",
              "    }\n",
              "\n",
              "    .dataframe thead tr th {\n",
              "        text-align: left;\n",
              "    }\n",
              "\n",
              "    .dataframe thead tr:last-of-type th {\n",
              "        text-align: right;\n",
              "    }\n",
              "</style>\n",
              "<table border=\"1\" class=\"dataframe\">\n",
              "  <thead>\n",
              "    <tr>\n",
              "      <th></th>\n",
              "      <th colspan=\"5\" halign=\"left\">Adj Close</th>\n",
              "      <th colspan=\"5\" halign=\"left\">Close</th>\n",
              "      <th colspan=\"5\" halign=\"left\">High</th>\n",
              "      <th colspan=\"5\" halign=\"left\">Low</th>\n",
              "      <th colspan=\"5\" halign=\"left\">Open</th>\n",
              "      <th colspan=\"5\" halign=\"left\">Volume</th>\n",
              "    </tr>\n",
              "    <tr>\n",
              "      <th></th>\n",
              "      <th>AAPL</th>\n",
              "      <th>AMZN</th>\n",
              "      <th>FB</th>\n",
              "      <th>GOOGL</th>\n",
              "      <th>MSFT</th>\n",
              "      <th>AAPL</th>\n",
              "      <th>AMZN</th>\n",
              "      <th>FB</th>\n",
              "      <th>GOOGL</th>\n",
              "      <th>MSFT</th>\n",
              "      <th>AAPL</th>\n",
              "      <th>AMZN</th>\n",
              "      <th>FB</th>\n",
              "      <th>GOOGL</th>\n",
              "      <th>MSFT</th>\n",
              "      <th>AAPL</th>\n",
              "      <th>AMZN</th>\n",
              "      <th>FB</th>\n",
              "      <th>GOOGL</th>\n",
              "      <th>MSFT</th>\n",
              "      <th>AAPL</th>\n",
              "      <th>AMZN</th>\n",
              "      <th>FB</th>\n",
              "      <th>GOOGL</th>\n",
              "      <th>MSFT</th>\n",
              "      <th>AAPL</th>\n",
              "      <th>AMZN</th>\n",
              "      <th>FB</th>\n",
              "      <th>GOOGL</th>\n",
              "      <th>MSFT</th>\n",
              "    </tr>\n",
              "    <tr>\n",
              "      <th>Date</th>\n",
              "      <th></th>\n",
              "      <th></th>\n",
              "      <th></th>\n",
              "      <th></th>\n",
              "      <th></th>\n",
              "      <th></th>\n",
              "      <th></th>\n",
              "      <th></th>\n",
              "      <th></th>\n",
              "      <th></th>\n",
              "      <th></th>\n",
              "      <th></th>\n",
              "      <th></th>\n",
              "      <th></th>\n",
              "      <th></th>\n",
              "      <th></th>\n",
              "      <th></th>\n",
              "      <th></th>\n",
              "      <th></th>\n",
              "      <th></th>\n",
              "      <th></th>\n",
              "      <th></th>\n",
              "      <th></th>\n",
              "      <th></th>\n",
              "      <th></th>\n",
              "      <th></th>\n",
              "      <th></th>\n",
              "      <th></th>\n",
              "      <th></th>\n",
              "      <th></th>\n",
              "    </tr>\n",
              "  </thead>\n",
              "  <tbody>\n",
              "    <tr>\n",
              "      <th>2021-01-04</th>\n",
              "      <td>128.804825</td>\n",
              "      <td>3186.629883</td>\n",
              "      <td>268.940002</td>\n",
              "      <td>1726.130005</td>\n",
              "      <td>216.275375</td>\n",
              "      <td>129.410004</td>\n",
              "      <td>3186.629883</td>\n",
              "      <td>268.940002</td>\n",
              "      <td>1726.130005</td>\n",
              "      <td>217.690002</td>\n",
              "      <td>133.610001</td>\n",
              "      <td>3272.000000</td>\n",
              "      <td>275.000000</td>\n",
              "      <td>1762.489990</td>\n",
              "      <td>223.000000</td>\n",
              "      <td>126.760002</td>\n",
              "      <td>3144.020020</td>\n",
              "      <td>265.200012</td>\n",
              "      <td>1707.140015</td>\n",
              "      <td>214.809998</td>\n",
              "      <td>133.520004</td>\n",
              "      <td>3270.000000</td>\n",
              "      <td>274.779999</td>\n",
              "      <td>1760.000000</td>\n",
              "      <td>222.529999</td>\n",
              "      <td>143301900</td>\n",
              "      <td>4411400</td>\n",
              "      <td>15106100</td>\n",
              "      <td>1866200</td>\n",
              "      <td>37130100</td>\n",
              "    </tr>\n",
              "    <tr>\n",
              "      <th>2021-01-05</th>\n",
              "      <td>130.397324</td>\n",
              "      <td>3218.510010</td>\n",
              "      <td>270.970001</td>\n",
              "      <td>1740.050049</td>\n",
              "      <td>216.484009</td>\n",
              "      <td>131.009995</td>\n",
              "      <td>3218.510010</td>\n",
              "      <td>270.970001</td>\n",
              "      <td>1740.050049</td>\n",
              "      <td>217.899994</td>\n",
              "      <td>131.740005</td>\n",
              "      <td>3223.379883</td>\n",
              "      <td>272.399994</td>\n",
              "      <td>1746.829956</td>\n",
              "      <td>218.520004</td>\n",
              "      <td>128.429993</td>\n",
              "      <td>3165.060059</td>\n",
              "      <td>268.209991</td>\n",
              "      <td>1716.900024</td>\n",
              "      <td>215.699997</td>\n",
              "      <td>128.889999</td>\n",
              "      <td>3166.010010</td>\n",
              "      <td>268.290009</td>\n",
              "      <td>1725.089966</td>\n",
              "      <td>217.259995</td>\n",
              "      <td>97664900</td>\n",
              "      <td>2655500</td>\n",
              "      <td>9871600</td>\n",
              "      <td>1018000</td>\n",
              "      <td>23823000</td>\n",
              "    </tr>\n",
              "    <tr>\n",
              "      <th>2021-01-06</th>\n",
              "      <td>126.007957</td>\n",
              "      <td>3138.379883</td>\n",
              "      <td>263.309998</td>\n",
              "      <td>1722.880005</td>\n",
              "      <td>210.870728</td>\n",
              "      <td>126.599998</td>\n",
              "      <td>3138.379883</td>\n",
              "      <td>263.309998</td>\n",
              "      <td>1722.880005</td>\n",
              "      <td>212.250000</td>\n",
              "      <td>131.050003</td>\n",
              "      <td>3197.510010</td>\n",
              "      <td>267.750000</td>\n",
              "      <td>1743.969971</td>\n",
              "      <td>216.490005</td>\n",
              "      <td>126.379997</td>\n",
              "      <td>3131.159912</td>\n",
              "      <td>260.010010</td>\n",
              "      <td>1696.099976</td>\n",
              "      <td>211.940002</td>\n",
              "      <td>127.720001</td>\n",
              "      <td>3146.479980</td>\n",
              "      <td>262.000000</td>\n",
              "      <td>1700.260010</td>\n",
              "      <td>212.169998</td>\n",
              "      <td>155088000</td>\n",
              "      <td>4394800</td>\n",
              "      <td>24354100</td>\n",
              "      <td>2329400</td>\n",
              "      <td>35930700</td>\n",
              "    </tr>\n",
              "    <tr>\n",
              "      <th>2021-01-07</th>\n",
              "      <td>130.307755</td>\n",
              "      <td>3162.159912</td>\n",
              "      <td>268.739990</td>\n",
              "      <td>1774.339966</td>\n",
              "      <td>216.871460</td>\n",
              "      <td>130.919998</td>\n",
              "      <td>3162.159912</td>\n",
              "      <td>268.739990</td>\n",
              "      <td>1774.339966</td>\n",
              "      <td>218.289993</td>\n",
              "      <td>131.630005</td>\n",
              "      <td>3208.540039</td>\n",
              "      <td>271.609985</td>\n",
              "      <td>1777.819946</td>\n",
              "      <td>219.339996</td>\n",
              "      <td>127.860001</td>\n",
              "      <td>3155.000000</td>\n",
              "      <td>264.779999</td>\n",
              "      <td>1726.760010</td>\n",
              "      <td>213.710007</td>\n",
              "      <td>128.360001</td>\n",
              "      <td>3157.000000</td>\n",
              "      <td>265.899994</td>\n",
              "      <td>1726.760010</td>\n",
              "      <td>214.039993</td>\n",
              "      <td>109578200</td>\n",
              "      <td>3514500</td>\n",
              "      <td>15789800</td>\n",
              "      <td>2096800</td>\n",
              "      <td>27694500</td>\n",
              "    </tr>\n",
              "    <tr>\n",
              "      <th>2021-01-08</th>\n",
              "      <td>131.432465</td>\n",
              "      <td>3182.699951</td>\n",
              "      <td>267.570007</td>\n",
              "      <td>1797.829956</td>\n",
              "      <td>218.192841</td>\n",
              "      <td>132.050003</td>\n",
              "      <td>3182.699951</td>\n",
              "      <td>267.570007</td>\n",
              "      <td>1797.829956</td>\n",
              "      <td>219.619995</td>\n",
              "      <td>132.630005</td>\n",
              "      <td>3190.639893</td>\n",
              "      <td>268.950012</td>\n",
              "      <td>1799.359985</td>\n",
              "      <td>220.580002</td>\n",
              "      <td>130.229996</td>\n",
              "      <td>3142.199951</td>\n",
              "      <td>263.179993</td>\n",
              "      <td>1761.219971</td>\n",
              "      <td>217.029999</td>\n",
              "      <td>132.429993</td>\n",
              "      <td>3180.000000</td>\n",
              "      <td>268.309998</td>\n",
              "      <td>1777.160034</td>\n",
              "      <td>218.679993</td>\n",
              "      <td>105158200</td>\n",
              "      <td>3537700</td>\n",
              "      <td>18528300</td>\n",
              "      <td>1774200</td>\n",
              "      <td>22956200</td>\n",
              "    </tr>\n",
              "    <tr>\n",
              "      <th>...</th>\n",
              "      <td>...</td>\n",
              "      <td>...</td>\n",
              "      <td>...</td>\n",
              "      <td>...</td>\n",
              "      <td>...</td>\n",
              "      <td>...</td>\n",
              "      <td>...</td>\n",
              "      <td>...</td>\n",
              "      <td>...</td>\n",
              "      <td>...</td>\n",
              "      <td>...</td>\n",
              "      <td>...</td>\n",
              "      <td>...</td>\n",
              "      <td>...</td>\n",
              "      <td>...</td>\n",
              "      <td>...</td>\n",
              "      <td>...</td>\n",
              "      <td>...</td>\n",
              "      <td>...</td>\n",
              "      <td>...</td>\n",
              "      <td>...</td>\n",
              "      <td>...</td>\n",
              "      <td>...</td>\n",
              "      <td>...</td>\n",
              "      <td>...</td>\n",
              "      <td>...</td>\n",
              "      <td>...</td>\n",
              "      <td>...</td>\n",
              "      <td>...</td>\n",
              "      <td>...</td>\n",
              "    </tr>\n",
              "    <tr>\n",
              "      <th>2021-08-13</th>\n",
              "      <td>149.100006</td>\n",
              "      <td>3293.969971</td>\n",
              "      <td>363.179993</td>\n",
              "      <td>2754.550049</td>\n",
              "      <td>292.290436</td>\n",
              "      <td>149.100006</td>\n",
              "      <td>3293.969971</td>\n",
              "      <td>363.179993</td>\n",
              "      <td>2754.550049</td>\n",
              "      <td>292.850006</td>\n",
              "      <td>149.440002</td>\n",
              "      <td>3306.070068</td>\n",
              "      <td>364.660004</td>\n",
              "      <td>2757.129883</td>\n",
              "      <td>292.899994</td>\n",
              "      <td>148.270004</td>\n",
              "      <td>3283.000000</td>\n",
              "      <td>361.480011</td>\n",
              "      <td>2740.659912</td>\n",
              "      <td>289.299988</td>\n",
              "      <td>148.970001</td>\n",
              "      <td>3305.669922</td>\n",
              "      <td>362.970001</td>\n",
              "      <td>2745.000000</td>\n",
              "      <td>289.480011</td>\n",
              "      <td>59318800</td>\n",
              "      <td>2052800</td>\n",
              "      <td>7192500</td>\n",
              "      <td>797000</td>\n",
              "      <td>18231400</td>\n",
              "    </tr>\n",
              "    <tr>\n",
              "      <th>2021-08-16</th>\n",
              "      <td>151.119995</td>\n",
              "      <td>3298.989990</td>\n",
              "      <td>366.559998</td>\n",
              "      <td>2766.189941</td>\n",
              "      <td>294.037109</td>\n",
              "      <td>151.119995</td>\n",
              "      <td>3298.989990</td>\n",
              "      <td>366.559998</td>\n",
              "      <td>2766.189941</td>\n",
              "      <td>294.600006</td>\n",
              "      <td>151.190002</td>\n",
              "      <td>3300.000000</td>\n",
              "      <td>366.950012</td>\n",
              "      <td>2767.250000</td>\n",
              "      <td>294.820007</td>\n",
              "      <td>146.470001</td>\n",
              "      <td>3211.129883</td>\n",
              "      <td>357.380005</td>\n",
              "      <td>2705.979980</td>\n",
              "      <td>290.019989</td>\n",
              "      <td>148.539993</td>\n",
              "      <td>3283.000000</td>\n",
              "      <td>362.519989</td>\n",
              "      <td>2750.500000</td>\n",
              "      <td>293.190002</td>\n",
              "      <td>103296000</td>\n",
              "      <td>3319700</td>\n",
              "      <td>11222100</td>\n",
              "      <td>1119200</td>\n",
              "      <td>22507600</td>\n",
              "    </tr>\n",
              "    <tr>\n",
              "      <th>2021-08-17</th>\n",
              "      <td>150.190002</td>\n",
              "      <td>3241.959961</td>\n",
              "      <td>358.450012</td>\n",
              "      <td>2733.229980</td>\n",
              "      <td>292.519989</td>\n",
              "      <td>150.190002</td>\n",
              "      <td>3241.959961</td>\n",
              "      <td>358.450012</td>\n",
              "      <td>2733.229980</td>\n",
              "      <td>293.079987</td>\n",
              "      <td>151.679993</td>\n",
              "      <td>3280.489990</td>\n",
              "      <td>364.670013</td>\n",
              "      <td>2765.310059</td>\n",
              "      <td>293.429993</td>\n",
              "      <td>149.089996</td>\n",
              "      <td>3225.679932</td>\n",
              "      <td>355.070007</td>\n",
              "      <td>2721.639893</td>\n",
              "      <td>291.079987</td>\n",
              "      <td>150.229996</td>\n",
              "      <td>3277.500000</td>\n",
              "      <td>362.980011</td>\n",
              "      <td>2755.000000</td>\n",
              "      <td>292.390015</td>\n",
              "      <td>92229700</td>\n",
              "      <td>3387900</td>\n",
              "      <td>12328700</td>\n",
              "      <td>1085800</td>\n",
              "      <td>20075300</td>\n",
              "    </tr>\n",
              "    <tr>\n",
              "      <th>2021-08-18</th>\n",
              "      <td>146.360001</td>\n",
              "      <td>3201.219971</td>\n",
              "      <td>355.450012</td>\n",
              "      <td>2708.979980</td>\n",
              "      <td>290.730011</td>\n",
              "      <td>146.360001</td>\n",
              "      <td>3201.219971</td>\n",
              "      <td>355.450012</td>\n",
              "      <td>2708.979980</td>\n",
              "      <td>290.730011</td>\n",
              "      <td>150.720001</td>\n",
              "      <td>3254.100098</td>\n",
              "      <td>359.859985</td>\n",
              "      <td>2742.090088</td>\n",
              "      <td>294.820007</td>\n",
              "      <td>146.149994</td>\n",
              "      <td>3200.000000</td>\n",
              "      <td>355.149994</td>\n",
              "      <td>2706.429932</td>\n",
              "      <td>290.269989</td>\n",
              "      <td>149.800003</td>\n",
              "      <td>3241.989990</td>\n",
              "      <td>356.250000</td>\n",
              "      <td>2730.000000</td>\n",
              "      <td>292.040009</td>\n",
              "      <td>86326000</td>\n",
              "      <td>2804300</td>\n",
              "      <td>10034200</td>\n",
              "      <td>962900</td>\n",
              "      <td>21813000</td>\n",
              "    </tr>\n",
              "    <tr>\n",
              "      <th>2021-08-19</th>\n",
              "      <td>146.699997</td>\n",
              "      <td>3187.750000</td>\n",
              "      <td>354.819092</td>\n",
              "      <td>2713.600098</td>\n",
              "      <td>296.769989</td>\n",
              "      <td>146.699997</td>\n",
              "      <td>3187.750000</td>\n",
              "      <td>354.819092</td>\n",
              "      <td>2713.600098</td>\n",
              "      <td>296.769989</td>\n",
              "      <td>148.000000</td>\n",
              "      <td>3233.000000</td>\n",
              "      <td>357.570007</td>\n",
              "      <td>2727.050049</td>\n",
              "      <td>297.470001</td>\n",
              "      <td>144.500000</td>\n",
              "      <td>3182.459961</td>\n",
              "      <td>351.000000</td>\n",
              "      <td>2685.000000</td>\n",
              "      <td>288.640015</td>\n",
              "      <td>145.029999</td>\n",
              "      <td>3194.020020</td>\n",
              "      <td>351.345001</td>\n",
              "      <td>2688.709961</td>\n",
              "      <td>288.690002</td>\n",
              "      <td>86861700</td>\n",
              "      <td>3770700</td>\n",
              "      <td>9143135</td>\n",
              "      <td>1087600</td>\n",
              "      <td>29821100</td>\n",
              "    </tr>\n",
              "  </tbody>\n",
              "</table>\n",
              "<p>159 rows × 30 columns</p>\n",
              "</div>"
            ],
            "text/plain": [
              "             Adj Close                           ...    Volume                   \n",
              "                  AAPL         AMZN          FB  ...        FB    GOOGL      MSFT\n",
              "Date                                             ...                             \n",
              "2021-01-04  128.804825  3186.629883  268.940002  ...  15106100  1866200  37130100\n",
              "2021-01-05  130.397324  3218.510010  270.970001  ...   9871600  1018000  23823000\n",
              "2021-01-06  126.007957  3138.379883  263.309998  ...  24354100  2329400  35930700\n",
              "2021-01-07  130.307755  3162.159912  268.739990  ...  15789800  2096800  27694500\n",
              "2021-01-08  131.432465  3182.699951  267.570007  ...  18528300  1774200  22956200\n",
              "...                ...          ...         ...  ...       ...      ...       ...\n",
              "2021-08-13  149.100006  3293.969971  363.179993  ...   7192500   797000  18231400\n",
              "2021-08-16  151.119995  3298.989990  366.559998  ...  11222100  1119200  22507600\n",
              "2021-08-17  150.190002  3241.959961  358.450012  ...  12328700  1085800  20075300\n",
              "2021-08-18  146.360001  3201.219971  355.450012  ...  10034200   962900  21813000\n",
              "2021-08-19  146.699997  3187.750000  354.819092  ...   9143135  1087600  29821100\n",
              "\n",
              "[159 rows x 30 columns]"
            ]
          },
          "metadata": {},
          "execution_count": 4
        }
      ]
    },
    {
      "cell_type": "code",
      "metadata": {
        "id": "_KqP3oh6Xied"
      },
      "source": [
        "df = data['Adj Close']"
      ],
      "execution_count": 5,
      "outputs": []
    },
    {
      "cell_type": "code",
      "metadata": {
        "colab": {
          "base_uri": "https://localhost:8080/"
        },
        "id": "oRHwzW5n3gmi",
        "outputId": "217b10c2-e3ce-4e70-c026-044169484d27"
      },
      "source": [
        "df.info()"
      ],
      "execution_count": 6,
      "outputs": [
        {
          "output_type": "stream",
          "text": [
            "<class 'pandas.core.frame.DataFrame'>\n",
            "DatetimeIndex: 159 entries, 2021-01-04 to 2021-08-19\n",
            "Data columns (total 5 columns):\n",
            " #   Column  Non-Null Count  Dtype  \n",
            "---  ------  --------------  -----  \n",
            " 0   AAPL    159 non-null    float64\n",
            " 1   AMZN    159 non-null    float64\n",
            " 2   FB      159 non-null    float64\n",
            " 3   GOOGL   159 non-null    float64\n",
            " 4   MSFT    159 non-null    float64\n",
            "dtypes: float64(5)\n",
            "memory usage: 7.5 KB\n"
          ],
          "name": "stdout"
        }
      ]
    },
    {
      "cell_type": "code",
      "metadata": {
        "colab": {
          "base_uri": "https://localhost:8080/"
        },
        "id": "zmD0DJkq0GUo",
        "outputId": "68b3d043-c554-485c-bfe5-d85a61807408"
      },
      "source": [
        "df.isin([np.inf, -np.inf]).values.sum()"
      ],
      "execution_count": 7,
      "outputs": [
        {
          "output_type": "execute_result",
          "data": {
            "text/plain": [
              "0"
            ]
          },
          "metadata": {},
          "execution_count": 7
        }
      ]
    },
    {
      "cell_type": "code",
      "metadata": {
        "colab": {
          "base_uri": "https://localhost:8080/"
        },
        "id": "hUCniS313d7I",
        "outputId": "84a2b241-cde2-4f2d-ae9a-438b065569aa"
      },
      "source": [
        "df.isna().values.sum()"
      ],
      "execution_count": 8,
      "outputs": [
        {
          "output_type": "execute_result",
          "data": {
            "text/plain": [
              "0"
            ]
          },
          "metadata": {},
          "execution_count": 8
        }
      ]
    },
    {
      "cell_type": "code",
      "metadata": {
        "colab": {
          "base_uri": "https://localhost:8080/"
        },
        "id": "ZcJt-lacx6ug",
        "outputId": "b66a997c-e96d-4831-d7be-2eac004c4f9d"
      },
      "source": [
        "maxdf = df.max()\n",
        "maxdf"
      ],
      "execution_count": 9,
      "outputs": [
        {
          "output_type": "execute_result",
          "data": {
            "text/plain": [
              "AAPL      151.119995\n",
              "AMZN     3731.409912\n",
              "FB        373.279999\n",
              "GOOGL    2766.189941\n",
              "MSFT      296.769989\n",
              "dtype: float64"
            ]
          },
          "metadata": {},
          "execution_count": 9
        }
      ]
    },
    {
      "cell_type": "code",
      "metadata": {
        "colab": {
          "base_uri": "https://localhost:8080/"
        },
        "id": "UcM3kDJiyBfd",
        "outputId": "05b878ca-b031-4f63-ed4d-9a136c59efc7"
      },
      "source": [
        "mindf = df.min()\n",
        "mindf"
      ],
      "execution_count": 10,
      "outputs": [
        {
          "output_type": "execute_result",
          "data": {
            "text/plain": [
              "AAPL      115.988907\n",
              "AMZN     2951.949951\n",
              "FB        245.639999\n",
              "GOOGL    1722.880005\n",
              "MSFT      210.870728\n",
              "dtype: float64"
            ]
          },
          "metadata": {},
          "execution_count": 10
        }
      ]
    },
    {
      "cell_type": "code",
      "metadata": {
        "colab": {
          "base_uri": "https://localhost:8080/"
        },
        "id": "bgFKWNE_yFpU",
        "outputId": "b20338dd-778f-4347-e912-327f2bbf5348"
      },
      "source": [
        "max_min = maxdf.sub(mindf)\n",
        "max_min"
      ],
      "execution_count": 11,
      "outputs": [
        {
          "output_type": "execute_result",
          "data": {
            "text/plain": [
              "AAPL       35.131088\n",
              "AMZN      779.459961\n",
              "FB        127.639999\n",
              "GOOGL    1043.309937\n",
              "MSFT       85.899261\n",
              "dtype: float64"
            ]
          },
          "metadata": {},
          "execution_count": 11
        }
      ]
    },
    {
      "cell_type": "code",
      "metadata": {
        "colab": {
          "base_uri": "https://localhost:8080/",
          "height": 450
        },
        "id": "imYzOMlYtLCU",
        "outputId": "f544c25d-59a4-49c9-ce20-99be5c171958"
      },
      "source": [
        "df_new = df.sub(mindf, axis=1).div(max_min, axis=1)\n",
        "df_new"
      ],
      "execution_count": 12,
      "outputs": [
        {
          "output_type": "execute_result",
          "data": {
            "text/html": [
              "<div>\n",
              "<style scoped>\n",
              "    .dataframe tbody tr th:only-of-type {\n",
              "        vertical-align: middle;\n",
              "    }\n",
              "\n",
              "    .dataframe tbody tr th {\n",
              "        vertical-align: top;\n",
              "    }\n",
              "\n",
              "    .dataframe thead th {\n",
              "        text-align: right;\n",
              "    }\n",
              "</style>\n",
              "<table border=\"1\" class=\"dataframe\">\n",
              "  <thead>\n",
              "    <tr style=\"text-align: right;\">\n",
              "      <th></th>\n",
              "      <th>AAPL</th>\n",
              "      <th>AMZN</th>\n",
              "      <th>FB</th>\n",
              "      <th>GOOGL</th>\n",
              "      <th>MSFT</th>\n",
              "    </tr>\n",
              "    <tr>\n",
              "      <th>Date</th>\n",
              "      <th></th>\n",
              "      <th></th>\n",
              "      <th></th>\n",
              "      <th></th>\n",
              "      <th></th>\n",
              "    </tr>\n",
              "  </thead>\n",
              "  <tbody>\n",
              "    <tr>\n",
              "      <th>2021-01-04</th>\n",
              "      <td>0.364803</td>\n",
              "      <td>0.301080</td>\n",
              "      <td>0.182545</td>\n",
              "      <td>0.003115</td>\n",
              "      <td>0.062918</td>\n",
              "    </tr>\n",
              "    <tr>\n",
              "      <th>2021-01-05</th>\n",
              "      <td>0.410133</td>\n",
              "      <td>0.341980</td>\n",
              "      <td>0.198449</td>\n",
              "      <td>0.016457</td>\n",
              "      <td>0.065347</td>\n",
              "    </tr>\n",
              "    <tr>\n",
              "      <th>2021-01-06</th>\n",
              "      <td>0.285190</td>\n",
              "      <td>0.239178</td>\n",
              "      <td>0.138436</td>\n",
              "      <td>0.000000</td>\n",
              "      <td>0.000000</td>\n",
              "    </tr>\n",
              "    <tr>\n",
              "      <th>2021-01-07</th>\n",
              "      <td>0.407583</td>\n",
              "      <td>0.269687</td>\n",
              "      <td>0.180978</td>\n",
              "      <td>0.049324</td>\n",
              "      <td>0.069858</td>\n",
              "    </tr>\n",
              "    <tr>\n",
              "      <th>2021-01-08</th>\n",
              "      <td>0.439598</td>\n",
              "      <td>0.296038</td>\n",
              "      <td>0.171811</td>\n",
              "      <td>0.071839</td>\n",
              "      <td>0.085241</td>\n",
              "    </tr>\n",
              "    <tr>\n",
              "      <th>...</th>\n",
              "      <td>...</td>\n",
              "      <td>...</td>\n",
              "      <td>...</td>\n",
              "      <td>...</td>\n",
              "      <td>...</td>\n",
              "    </tr>\n",
              "    <tr>\n",
              "      <th>2021-08-13</th>\n",
              "      <td>0.942501</td>\n",
              "      <td>0.438791</td>\n",
              "      <td>0.920871</td>\n",
              "      <td>0.988843</td>\n",
              "      <td>0.947851</td>\n",
              "    </tr>\n",
              "    <tr>\n",
              "      <th>2021-08-16</th>\n",
              "      <td>1.000000</td>\n",
              "      <td>0.445231</td>\n",
              "      <td>0.947352</td>\n",
              "      <td>1.000000</td>\n",
              "      <td>0.968185</td>\n",
              "    </tr>\n",
              "    <tr>\n",
              "      <th>2021-08-17</th>\n",
              "      <td>0.973528</td>\n",
              "      <td>0.372065</td>\n",
              "      <td>0.883814</td>\n",
              "      <td>0.968408</td>\n",
              "      <td>0.950523</td>\n",
              "    </tr>\n",
              "    <tr>\n",
              "      <th>2021-08-18</th>\n",
              "      <td>0.864508</td>\n",
              "      <td>0.319798</td>\n",
              "      <td>0.860310</td>\n",
              "      <td>0.945165</td>\n",
              "      <td>0.929685</td>\n",
              "    </tr>\n",
              "    <tr>\n",
              "      <th>2021-08-19</th>\n",
              "      <td>0.874186</td>\n",
              "      <td>0.302517</td>\n",
              "      <td>0.855367</td>\n",
              "      <td>0.949593</td>\n",
              "      <td>1.000000</td>\n",
              "    </tr>\n",
              "  </tbody>\n",
              "</table>\n",
              "<p>159 rows × 5 columns</p>\n",
              "</div>"
            ],
            "text/plain": [
              "                AAPL      AMZN        FB     GOOGL      MSFT\n",
              "Date                                                        \n",
              "2021-01-04  0.364803  0.301080  0.182545  0.003115  0.062918\n",
              "2021-01-05  0.410133  0.341980  0.198449  0.016457  0.065347\n",
              "2021-01-06  0.285190  0.239178  0.138436  0.000000  0.000000\n",
              "2021-01-07  0.407583  0.269687  0.180978  0.049324  0.069858\n",
              "2021-01-08  0.439598  0.296038  0.171811  0.071839  0.085241\n",
              "...              ...       ...       ...       ...       ...\n",
              "2021-08-13  0.942501  0.438791  0.920871  0.988843  0.947851\n",
              "2021-08-16  1.000000  0.445231  0.947352  1.000000  0.968185\n",
              "2021-08-17  0.973528  0.372065  0.883814  0.968408  0.950523\n",
              "2021-08-18  0.864508  0.319798  0.860310  0.945165  0.929685\n",
              "2021-08-19  0.874186  0.302517  0.855367  0.949593  1.000000\n",
              "\n",
              "[159 rows x 5 columns]"
            ]
          },
          "metadata": {},
          "execution_count": 12
        }
      ]
    },
    {
      "cell_type": "code",
      "metadata": {
        "colab": {
          "base_uri": "https://localhost:8080/"
        },
        "id": "Z1K3lEWMxFML",
        "outputId": "e7b87d68-ec2c-430e-fa6a-ae7f9eb31303"
      },
      "source": [
        "print(df_new.head(5))"
      ],
      "execution_count": 13,
      "outputs": [
        {
          "output_type": "stream",
          "text": [
            "                AAPL      AMZN        FB     GOOGL      MSFT\n",
            "Date                                                        \n",
            "2021-01-04  0.364803  0.301080  0.182545  0.003115  0.062918\n",
            "2021-01-05  0.410133  0.341980  0.198449  0.016457  0.065347\n",
            "2021-01-06  0.285190  0.239178  0.138436  0.000000  0.000000\n",
            "2021-01-07  0.407583  0.269687  0.180978  0.049324  0.069858\n",
            "2021-01-08  0.439598  0.296038  0.171811  0.071839  0.085241\n"
          ],
          "name": "stdout"
        }
      ]
    },
    {
      "cell_type": "code",
      "metadata": {
        "colab": {
          "base_uri": "https://localhost:8080/"
        },
        "id": "55NctfArYPyu",
        "outputId": "709e8f9f-d85d-4625-ea12-7653ffe61fe0"
      },
      "source": [
        "print(df_new.columns.tolist())"
      ],
      "execution_count": 14,
      "outputs": [
        {
          "output_type": "stream",
          "text": [
            "['AAPL', 'AMZN', 'FB', 'GOOGL', 'MSFT']\n"
          ],
          "name": "stdout"
        }
      ]
    },
    {
      "cell_type": "code",
      "metadata": {
        "colab": {
          "base_uri": "https://localhost:8080/",
          "height": 265
        },
        "id": "3-uIUTWjL8yL",
        "outputId": "ba3a2c5c-f4b0-44cd-e94f-35d5a11afdef"
      },
      "source": [
        "plt.plot(df_new)\n",
        "plt.legend(df_new.columns.tolist())\n",
        "plt.show()"
      ],
      "execution_count": 15,
      "outputs": [
        {
          "output_type": "display_data",
          "data": {
            "image/png": "[encoded data removed]",
            "text/plain": [
              "<Figure size 432x288 with 1 Axes>"
            ]
          },
          "metadata": {
            "needs_background": "light"
          }
        }
      ]
    },
    {
      "cell_type": "code",
      "metadata": {
        "id": "lFP2G3eYJLDi"
      },
      "source": [
        "corrMatrix = df_new.corr()"
      ],
      "execution_count": 16,
      "outputs": []
    },
    {
      "cell_type": "code",
      "metadata": {
        "colab": {
          "base_uri": "https://localhost:8080/",
          "height": 204
        },
        "id": "KLLpvHUcJaxy",
        "outputId": "98525acd-4a55-48af-90b7-a4313ccfb6ef"
      },
      "source": [
        "corrMatrix"
      ],
      "execution_count": 17,
      "outputs": [
        {
          "output_type": "execute_result",
          "data": {
            "text/html": [
              "<div>\n",
              "<style scoped>\n",
              "    .dataframe tbody tr th:only-of-type {\n",
              "        vertical-align: middle;\n",
              "    }\n",
              "\n",
              "    .dataframe tbody tr th {\n",
              "        vertical-align: top;\n",
              "    }\n",
              "\n",
              "    .dataframe thead th {\n",
              "        text-align: right;\n",
              "    }\n",
              "</style>\n",
              "<table border=\"1\" class=\"dataframe\">\n",
              "  <thead>\n",
              "    <tr style=\"text-align: right;\">\n",
              "      <th></th>\n",
              "      <th>AAPL</th>\n",
              "      <th>AMZN</th>\n",
              "      <th>FB</th>\n",
              "      <th>GOOGL</th>\n",
              "      <th>MSFT</th>\n",
              "    </tr>\n",
              "  </thead>\n",
              "  <tbody>\n",
              "    <tr>\n",
              "      <th>AAPL</th>\n",
              "      <td>1.000000</td>\n",
              "      <td>0.736836</td>\n",
              "      <td>0.625195</td>\n",
              "      <td>0.625853</td>\n",
              "      <td>0.777496</td>\n",
              "    </tr>\n",
              "    <tr>\n",
              "      <th>AMZN</th>\n",
              "      <td>0.736836</td>\n",
              "      <td>1.000000</td>\n",
              "      <td>0.676231</td>\n",
              "      <td>0.621876</td>\n",
              "      <td>0.715897</td>\n",
              "    </tr>\n",
              "    <tr>\n",
              "      <th>FB</th>\n",
              "      <td>0.625195</td>\n",
              "      <td>0.676231</td>\n",
              "      <td>1.000000</td>\n",
              "      <td>0.945216</td>\n",
              "      <td>0.911668</td>\n",
              "    </tr>\n",
              "    <tr>\n",
              "      <th>GOOGL</th>\n",
              "      <td>0.625853</td>\n",
              "      <td>0.621876</td>\n",
              "      <td>0.945216</td>\n",
              "      <td>1.000000</td>\n",
              "      <td>0.957994</td>\n",
              "    </tr>\n",
              "    <tr>\n",
              "      <th>MSFT</th>\n",
              "      <td>0.777496</td>\n",
              "      <td>0.715897</td>\n",
              "      <td>0.911668</td>\n",
              "      <td>0.957994</td>\n",
              "      <td>1.000000</td>\n",
              "    </tr>\n",
              "  </tbody>\n",
              "</table>\n",
              "</div>"
            ],
            "text/plain": [
              "           AAPL      AMZN        FB     GOOGL      MSFT\n",
              "AAPL   1.000000  0.736836  0.625195  0.625853  0.777496\n",
              "AMZN   0.736836  1.000000  0.676231  0.621876  0.715897\n",
              "FB     0.625195  0.676231  1.000000  0.945216  0.911668\n",
              "GOOGL  0.625853  0.621876  0.945216  1.000000  0.957994\n",
              "MSFT   0.777496  0.715897  0.911668  0.957994  1.000000"
            ]
          },
          "metadata": {},
          "execution_count": 17
        }
      ]
    },
    {
      "cell_type": "code",
      "metadata": {
        "colab": {
          "base_uri": "https://localhost:8080/",
          "height": 269
        },
        "id": "T2yPSeN7Ko1Z",
        "outputId": "8febf5e7-8bd3-429d-92e4-721ab23c035a"
      },
      "source": [
        "sn.heatmap(corrMatrix, annot=True)\n",
        "plt.show()"
      ],
      "execution_count": 18,
      "outputs": [
        {
          "output_type": "display_data",
          "data": {
            "image/png": "[encoded data removed]",
            "text/plain": [
              "<Figure size 432x288 with 2 Axes>"
            ]
          },
          "metadata": {
            "needs_background": "light"
          }
        }
      ]
    },
    {
      "cell_type": "code",
      "metadata": {
        "id": "eTewnVIRLcsJ"
      },
      "source": [
        "df_returns = df_new.pct_change()[20:]"
      ],
      "execution_count": 27,
      "outputs": []
    },
    {
      "cell_type": "code",
      "metadata": {
        "id": "zNz-niPr1LyT"
      },
      "source": [
        "df_returns.replace([np.inf, -np.inf], np.nan, inplace=True)"
      ],
      "execution_count": 28,
      "outputs": []
    },
    {
      "cell_type": "code",
      "metadata": {
        "id": "tmOerZzu2CYK"
      },
      "source": [
        "df_returns = df_returns.dropna()"
      ],
      "execution_count": 29,
      "outputs": []
    },
    {
      "cell_type": "code",
      "metadata": {
        "colab": {
          "base_uri": "https://localhost:8080/"
        },
        "id": "ebkobBk2z7h9",
        "outputId": "0800345e-fae7-4c8e-ea1d-6fe2d7f25fbe"
      },
      "source": [
        "df_returns.isin([np.inf, -np.inf]).values.sum()"
      ],
      "execution_count": 30,
      "outputs": [
        {
          "output_type": "execute_result",
          "data": {
            "text/plain": [
              "0"
            ]
          },
          "metadata": {},
          "execution_count": 30
        }
      ]
    },
    {
      "cell_type": "code",
      "metadata": {
        "colab": {
          "base_uri": "https://localhost:8080/"
        },
        "id": "UR68waq94eGO",
        "outputId": "7590e167-4cbf-4cd9-f24d-e1b6f7187d56"
      },
      "source": [
        "df_returns.isna().values.sum()"
      ],
      "execution_count": 31,
      "outputs": [
        {
          "output_type": "execute_result",
          "data": {
            "text/plain": [
              "0"
            ]
          },
          "metadata": {},
          "execution_count": 31
        }
      ]
    },
    {
      "cell_type": "code",
      "metadata": {
        "colab": {
          "base_uri": "https://localhost:8080/",
          "height": 265
        },
        "id": "BGYPaAthZ03h",
        "outputId": "a177ae46-d823-4205-bcb7-62829767a998"
      },
      "source": [
        "plt.plot(df_returns)\n",
        "plt.legend(df_returns.columns.tolist())\n",
        "plt.show()"
      ],
      "execution_count": 32,
      "outputs": [
        {
          "output_type": "display_data",
          "data": {
            "image/png": "[encoded data removed]",
            "text/plain": [
              "<Figure size 432x288 with 1 Axes>"
            ]
          },
          "metadata": {
            "needs_background": "light"
          }
        }
      ]
    },
    {
      "cell_type": "code",
      "metadata": {
        "colab": {
          "base_uri": "https://localhost:8080/",
          "height": 269
        },
        "id": "YD2KKdHgaitw",
        "outputId": "93f0f93c-836b-432f-879c-0dceb69d8f25"
      },
      "source": [
        "sn.heatmap(df_returns.corr(), annot=True)\n",
        "plt.show()"
      ],
      "execution_count": 33,
      "outputs": [
        {
          "output_type": "display_data",
          "data": {
            "image/png": "[encoded data removed]",
            "text/plain": [
              "<Figure size 432x288 with 2 Axes>"
            ]
          },
          "metadata": {
            "needs_background": "light"
          }
        }
      ]
    },
    {
      "cell_type": "code",
      "metadata": {
        "id": "phd-Q8G5ciDu"
      },
      "source": [
        "w = [0.1,0.2,0.25,0.25,0.2]"
      ],
      "execution_count": 34,
      "outputs": []
    },
    {
      "cell_type": "code",
      "metadata": {
        "colab": {
          "base_uri": "https://localhost:8080/"
        },
        "id": "YHAt2mGu4zwY",
        "outputId": "2e1db07a-5cc0-4863-d754-6ed398415e22"
      },
      "source": [
        "print(sum(w))"
      ],
      "execution_count": 35,
      "outputs": [
        {
          "output_type": "stream",
          "text": [
            "1.0\n"
          ],
          "name": "stdout"
        }
      ]
    },
    {
      "cell_type": "code",
      "metadata": {
        "colab": {
          "base_uri": "https://localhost:8080/"
        },
        "id": "bLxeqx8o41pS",
        "outputId": "eb4046af-841b-4141-ff83-cf7356d781c5"
      },
      "source": [
        "weighted_returns = (w * df_returns)\n",
        "print(weighted_returns.head(5))"
      ],
      "execution_count": 36,
      "outputs": [
        {
          "output_type": "stream",
          "text": [
            "                AAPL      AMZN        FB     GOOGL      MSFT\n",
            "Date                                                        \n",
            "2021-02-02  0.004828  0.018991  0.077428  0.038266 -0.001022\n",
            "2021-02-03 -0.005689 -0.031524 -0.005014  0.178047  0.025605\n",
            "2021-02-04  0.019821  0.010245 -0.001904 -0.003906 -0.006439\n",
            "2021-02-05 -0.002041  0.011159  0.019305  0.026606  0.001277\n",
            "2021-02-08  0.000735 -0.014598 -0.016919 -0.002944  0.001803\n"
          ],
          "name": "stdout"
        }
      ]
    },
    {
      "cell_type": "code",
      "metadata": {
        "colab": {
          "base_uri": "https://localhost:8080/"
        },
        "id": "tJEerjGU491D",
        "outputId": "32ecbce7-79d4-46f6-ff94-d31b61181298"
      },
      "source": [
        "port_ret = weighted_returns.sum(axis=1)\n",
        "# axis =1 tells pandas we want to add the rows\n",
        "print(port_ret)"
      ],
      "execution_count": 37,
      "outputs": [
        {
          "output_type": "stream",
          "text": [
            "Date\n",
            "2021-02-02    0.138491\n",
            "2021-02-03    0.161425\n",
            "2021-02-04    0.017816\n",
            "2021-02-05    0.056307\n",
            "2021-02-08   -0.031923\n",
            "                ...   \n",
            "2021-08-13    0.006703\n",
            "2021-08-16    0.023336\n",
            "2021-08-17   -0.063827\n",
            "2021-08-18   -0.056327\n",
            "2021-08-19    0.005173\n",
            "Length: 138, dtype: float64\n"
          ],
          "name": "stdout"
        }
      ]
    },
    {
      "cell_type": "code",
      "metadata": {
        "colab": {
          "base_uri": "https://localhost:8080/",
          "height": 295
        },
        "id": "WBZSvBOq5uZ7",
        "outputId": "7d879fe1-73ea-476c-a07b-1bbe1c6633c7"
      },
      "source": [
        "plt.plot(port_ret)\n",
        "plt.xlabel('Daily Portfolio returns')\n",
        "plt.ylabel(\"Returns\")\n",
        "plt.title(\"Portfolio Returns calculated manually\")\n",
        "plt.show()"
      ],
      "execution_count": 40,
      "outputs": [
        {
          "output_type": "display_data",
          "data": {
            "image/png": "[encoded data removed]",
            "text/plain": [
              "<Figure size 432x288 with 1 Axes>"
            ]
          },
          "metadata": {
            "needs_background": "light"
          }
        }
      ]
    },
    {
      "cell_type": "code",
      "metadata": {
        "colab": {
          "base_uri": "https://localhost:8080/",
          "height": 295
        },
        "id": "ZfjQVwaM5M07",
        "outputId": "2279bc90-3dd4-420d-a2dc-71bef53786b9"
      },
      "source": [
        "plt.hist(port_ret, bins = 60)\n",
        "plt.xlabel('Portfolio returns')\n",
        "plt.ylabel(\"Freq\")\n",
        "plt.title(\"Portfolio Returns calculated manually\")\n",
        "plt.show()"
      ],
      "execution_count": 39,
      "outputs": [
        {
          "output_type": "display_data",
          "data": {
            "image/png": "[encoded data removed]",
            "text/plain": [
              "<Figure size 432x288 with 1 Axes>"
            ]
          },
          "metadata": {
            "needs_background": "light"
          }
        }
      ]
    },
    {
      "cell_type": "code",
      "metadata": {
        "id": "t3EDkz4H5Ycw"
      },
      "source": [
        ""
      ],
      "execution_count": null,
      "outputs": []
    }
  ]
}